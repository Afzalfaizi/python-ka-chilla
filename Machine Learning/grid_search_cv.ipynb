{
 "cells": [
  {
   "cell_type": "markdown",
   "metadata": {},
   "source": [
    "# Grid Search CV"
   ]
  },
  {
   "cell_type": "code",
   "execution_count": 3,
   "metadata": {},
   "outputs": [
    {
     "name": "stdout",
     "output_type": "stream",
     "text": [
      "{'copy_X': True, 'fit_intercept': True, 'n_jobs': None, 'positive': False}\n"
     ]
    }
   ],
   "source": [
    "# import Libraries \n",
    "from sklearn.linear_model import LinearRegression\n",
    "from sklearn.model_selection import GridSearchCV\n",
    "\n",
    "# create a model\n",
    "model = LinearRegression()\n",
    "\n",
    "# get the parameters list\n",
    "print(model.get_params())"
   ]
  },
  {
   "cell_type": "code",
   "execution_count": 4,
   "metadata": {},
   "outputs": [
    {
     "name": "stdout",
     "output_type": "stream",
     "text": [
      "{'bootstrap': True, 'ccp_alpha': 0.0, 'class_weight': None, 'criterion': 'gini', 'max_depth': None, 'max_features': 'sqrt', 'max_leaf_nodes': None, 'max_samples': None, 'min_impurity_decrease': 0.0, 'min_samples_leaf': 1, 'min_samples_split': 2, 'min_weight_fraction_leaf': 0.0, 'n_estimators': 100, 'n_jobs': None, 'oob_score': False, 'random_state': None, 'verbose': 0, 'warm_start': False}\n"
     ]
    }
   ],
   "source": [
    "# import Libraries \n",
    "from sklearn.ensemble import RandomForestClassifier\n",
    "\n",
    "# create a model\n",
    "model = RandomForestClassifier()\n",
    "\n",
    "# get the parameters list\n",
    "print(model.get_params())"
   ]
  },
  {
   "cell_type": "code",
   "execution_count": 5,
   "metadata": {},
   "outputs": [
    {
     "name": "stdout",
     "output_type": "stream",
     "text": [
      "{'ccp_alpha': 0.0, 'class_weight': None, 'criterion': 'gini', 'max_depth': None, 'max_features': None, 'max_leaf_nodes': None, 'min_impurity_decrease': 0.0, 'min_samples_leaf': 1, 'min_samples_split': 2, 'min_weight_fraction_leaf': 0.0, 'random_state': None, 'splitter': 'best'}\n"
     ]
    }
   ],
   "source": [
    "# import Libraries \n",
    "from sklearn.tree import DecisionTreeClassifier\n",
    "\n",
    "# create a model\n",
    "model = DecisionTreeClassifier()\n",
    "\n",
    "# get the parameters list\n",
    "print(model.get_params())"
   ]
  },
  {
   "cell_type": "code",
   "execution_count": 7,
   "metadata": {},
   "outputs": [
    {
     "name": "stdout",
     "output_type": "stream",
     "text": [
      "Best Parameters : {'fit_intercept': True}\n"
     ]
    }
   ],
   "source": [
    "# Linear Regression\n",
    "import pandas as pd \n",
    "import seaborn as sns\n",
    "df = sns.load_dataset('titanic')\n",
    "df['age'] = df['age'].fillna(df['age'].mean())\n",
    "x = df[['age']]\n",
    "y = df['fare']\n",
    "\n",
    "\n",
    "from sklearn.linear_model import LinearRegression\n",
    "from sklearn.model_selection import  GridSearchCV\n",
    "\n",
    "# create a model \n",
    "model = LinearRegression()\n",
    "\n",
    "# define parameter grid\n",
    "\n",
    "param_grid = {'fit_intercept': [True,False]}\n",
    "\n",
    "# object grid search cv (creating the model)\n",
    "grid_search = GridSearchCV(model, param_grid, cv=5, scoring='r2')\n",
    "\n",
    "# train the model\n",
    "grid_search.fit(x,y)\n",
    "\n",
    "# print the best parameters\n",
    "print(\"Best Parameters :\" , grid_search.best_params_)"
   ]
  },
  {
   "cell_type": "code",
   "execution_count": 8,
   "metadata": {},
   "outputs": [
    {
     "data": {
      "text/plain": [
       "Index(['survived', 'pclass', 'sex', 'age', 'sibsp', 'parch', 'fare',\n",
       "       'embarked', 'class', 'who', 'adult_male', 'deck', 'embark_town',\n",
       "       'alive', 'alone'],\n",
       "      dtype='object')"
      ]
     },
     "execution_count": 8,
     "metadata": {},
     "output_type": "execute_result"
    }
   ],
   "source": [
    "df.columns"
   ]
  },
  {
   "cell_type": "markdown",
   "metadata": {},
   "source": [
    "# KNN grid search cv"
   ]
  },
  {
   "cell_type": "code",
   "execution_count": null,
   "metadata": {},
   "outputs": [],
   "source": [
    "# Linear Regression\n",
    "import pandas as pd \n",
    "import seaborn as sns\n",
    "df = sns.load_dataset('titanic')\n",
    "df['age'] = df['age'].fillna(df['age'].mean())\n",
    "x = df[['pclass','sex','age','sibsp','parch','fare']]\n",
    "y = df['surviced']\n",
    "pd.get_dummies(x, columns=['sex'], inplace=True)\n",
    "\n",
    "\n",
    "from sklearn.linear_model import LinearRegression\n",
    "from sklearn.model_selection import  GridSearchCV\n",
    "\n",
    "# create a model \n",
    "model = LinearRegression()\n",
    "\n",
    "# define parameter grid\n",
    "\n",
    "param_grid = {'fit_intercept': [True,False]}\n",
    "\n",
    "# object grid search cv (creating the model)\n",
    "grid_search = GridSearchCV(model, param_grid, cv=5, scoring='r2')\n",
    "\n",
    "# train the model\n",
    "grid_search.fit(x,y)\n",
    "\n",
    "# print the best parameters\n",
    "print(\"Best Parameters :\" , grid_search.best_params_)"
   ]
  }
 ],
 "metadata": {
  "kernelspec": {
   "display_name": "base",
   "language": "python",
   "name": "python3"
  },
  "language_info": {
   "codemirror_mode": {
    "name": "ipython",
    "version": 3
   },
   "file_extension": ".py",
   "mimetype": "text/x-python",
   "name": "python",
   "nbconvert_exporter": "python",
   "pygments_lexer": "ipython3",
   "version": "3.11.5"
  }
 },
 "nbformat": 4,
 "nbformat_minor": 2
}
