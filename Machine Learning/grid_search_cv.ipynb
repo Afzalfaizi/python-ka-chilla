{
 "cells": [
  {
   "cell_type": "markdown",
   "metadata": {},
   "source": [
    "# Grid Search CV"
   ]
  },
  {
   "cell_type": "code",
   "execution_count": 1,
   "metadata": {},
   "outputs": [
    {
     "name": "stdout",
     "output_type": "stream",
     "text": [
      "{'copy_X': True, 'fit_intercept': True, 'n_jobs': None, 'positive': False}\n"
     ]
    }
   ],
   "source": [
    "# import Libraries \n",
    "from sklearn.linear_model import LinearRegression\n",
    "from sklearn.model_selection import GridSearchCV\n",
    "\n",
    "# create a model\n",
    "model = LinearRegression()\n",
    "\n",
    "# get the parameters list\n",
    "print(model.get_params())"
   ]
  },
  {
   "cell_type": "code",
   "execution_count": 2,
   "metadata": {},
   "outputs": [
    {
     "name": "stdout",
     "output_type": "stream",
     "text": [
      "{'bootstrap': True, 'ccp_alpha': 0.0, 'class_weight': None, 'criterion': 'gini', 'max_depth': None, 'max_features': 'sqrt', 'max_leaf_nodes': None, 'max_samples': None, 'min_impurity_decrease': 0.0, 'min_samples_leaf': 1, 'min_samples_split': 2, 'min_weight_fraction_leaf': 0.0, 'n_estimators': 100, 'n_jobs': None, 'oob_score': False, 'random_state': None, 'verbose': 0, 'warm_start': False}\n"
     ]
    }
   ],
   "source": [
    "# import Libraries \n",
    "from sklearn.ensemble import RandomForestClassifier\n",
    "\n",
    "# create a model\n",
    "model = RandomForestClassifier()\n",
    "\n",
    "# get the parameters list\n",
    "print(model.get_params())"
   ]
  },
  {
   "cell_type": "code",
   "execution_count": 3,
   "metadata": {},
   "outputs": [
    {
     "name": "stdout",
     "output_type": "stream",
     "text": [
      "{'algorithm': 'auto', 'leaf_size': 30, 'metric': 'minkowski', 'metric_params': None, 'n_jobs': None, 'n_neighbors': 5, 'p': 2, 'weights': 'uniform'}\n"
     ]
    }
   ],
   "source": [
    "# import Libraries \n",
    "from sklearn.neighbors import KNeighborsClassifier\n",
    "\n",
    "# create a model\n",
    "model = KNeighborsClassifier()\n",
    "\n",
    "# get the parameters list\n",
    "print(model.get_params())"
   ]
  },
  {
   "cell_type": "code",
   "execution_count": 4,
   "metadata": {},
   "outputs": [
    {
     "name": "stdout",
     "output_type": "stream",
     "text": [
      "{'ccp_alpha': 0.0, 'class_weight': None, 'criterion': 'gini', 'max_depth': None, 'max_features': None, 'max_leaf_nodes': None, 'min_impurity_decrease': 0.0, 'min_samples_leaf': 1, 'min_samples_split': 2, 'min_weight_fraction_leaf': 0.0, 'random_state': None, 'splitter': 'best'}\n"
     ]
    }
   ],
   "source": [
    "# import Libraries \n",
    "from sklearn.tree import DecisionTreeClassifier\n",
    "\n",
    "# create a model\n",
    "model = DecisionTreeClassifier()\n",
    "\n",
    "# get the parameters list\n",
    "print(model.get_params())"
   ]
  },
  {
   "cell_type": "code",
   "execution_count": 9,
   "metadata": {},
   "outputs": [
    {
     "name": "stdout",
     "output_type": "stream",
     "text": [
      "Best Parameters : {'fit_intercept': True}\n"
     ]
    }
   ],
   "source": [
    "# Linear Regression\n",
    "import pandas as pd \n",
    "import seaborn as sns\n",
    "import numpy as np \n",
    "df = sns.load_dataset('titanic')\n",
    "df['age'] = df['age'].fillna(df['age'].mean())\n",
    "x = df[['age']]\n",
    "y = df['fare']\n",
    "\n",
    "\n",
    "from sklearn.linear_model import LinearRegression\n",
    "from sklearn.model_selection import  GridSearchCV\n",
    "\n",
    "# create a model \n",
    "model = LinearRegression()\n",
    "\n",
    "# define parameter grid\n",
    "\n",
    "param_grid = {'fit_intercept': [True,False]}\n",
    "\n",
    "# object grid search cv (creating the model)\n",
    "grid_search = GridSearchCV(model, param_grid, cv=5, scoring='r2')\n",
    "\n",
    "# train the model\n",
    "grid_search.fit(x,y)\n",
    "\n",
    "# print the best parameters\n",
    "print(\"Best Parameters :\" , grid_search.best_params_)"
   ]
  },
  {
   "cell_type": "code",
   "execution_count": 6,
   "metadata": {},
   "outputs": [
    {
     "data": {
      "text/plain": [
       "Index(['survived', 'pclass', 'sex', 'age', 'sibsp', 'parch', 'fare',\n",
       "       'embarked', 'class', 'who', 'adult_male', 'deck', 'embark_town',\n",
       "       'alive', 'alone'],\n",
       "      dtype='object')"
      ]
     },
     "execution_count": 6,
     "metadata": {},
     "output_type": "execute_result"
    }
   ],
   "source": [
    "df.columns"
   ]
  },
  {
   "cell_type": "markdown",
   "metadata": {},
   "source": [
    "# KNN grid search cv"
   ]
  },
  {
   "cell_type": "code",
   "execution_count": 12,
   "metadata": {},
   "outputs": [
    {
     "name": "stdout",
     "output_type": "stream",
     "text": [
      "Best Parameters : {'n_neighbors': 7, 'weights': 'distance'}\n",
      "Best Score : 0.6234282955414142\n"
     ]
    }
   ],
   "source": [
    "# Linear Regression\n",
    "import pandas as pd \n",
    "import seaborn as sns\n",
    "df = sns.load_dataset('titanic')\n",
    "df['age'] = df['age'].fillna(df['age'].mean())\n",
    "x = df[['pclass','sex','age','sibsp','parch','fare']]\n",
    "y = df['survived']\n",
    "x = pd.get_dummies(x,columns=['sex'])\n",
    "\n",
    "\n",
    "from sklearn.neighbors import KNeighborsClassifier\n",
    "from sklearn.model_selection import  GridSearchCV\n",
    "\n",
    "# create a model \n",
    "model = KNeighborsClassifier()\n",
    "\n",
    "# define parameter grid\n",
    "\n",
    "param_grid = {'n_neighbors': np.arange(1,30,2),'weights':['uniform', 'distance']}\n",
    "\n",
    "# object grid search cv (creating the model)\n",
    "grid_search = GridSearchCV(model, param_grid, cv=5, scoring='f1')\n",
    "\n",
    "# train the model\n",
    "grid_search.fit(x,y)\n",
    "\n",
    "# print the best parameters\n",
    "print(\"Best Parameters :\" , grid_search.best_params_)\n",
    "print(\"Best Score :\" , grid_search.best_score_)"
   ]
  },
  {
   "cell_type": "code",
   "execution_count": 14,
   "metadata": {},
   "outputs": [
    {
     "name": "stdout",
     "output_type": "stream",
     "text": [
      "Best Parameters : {'max_depth': 5, 'min_samples_split': 2}\n",
      "Best Score : 0.7414670121356333\n"
     ]
    }
   ],
   "source": [
    "# DTC Decision Tree Classifier\n",
    "import pandas as pd \n",
    "import seaborn as sns\n",
    "df = sns.load_dataset('titanic')\n",
    "df['age'] = df['age'].fillna(df['age'].mean())\n",
    "x = df[['pclass','sex','age','sibsp','parch','fare']]\n",
    "y = df['survived']\n",
    "x = pd.get_dummies(x,columns=['sex'])\n",
    "\n",
    "from sklearn.tree import  DecisionTreeClassifier\n",
    "from sklearn.model_selection import  GridSearchCV\n",
    "\n",
    "# create a model \n",
    "model = DecisionTreeClassifier()\n",
    "\n",
    "# define parameter grid\n",
    "\n",
    "param_grid = {'max_depth': [3,5,7, None], 'min_samples_split':[2,3,4]}\n",
    "\n",
    "# object grid search cv (creating the model)\n",
    "grid_search = GridSearchCV(model, param_grid, cv=5, scoring='f1')\n",
    "\n",
    "# train the model\n",
    "grid_search.fit(x,y)\n",
    "\n",
    "# print the best parameters\n",
    "print(\"Best Parameters :\" , grid_search.best_params_)\n",
    "print(\"Best Score :\" , grid_search.best_score_)"
   ]
  },
  {
   "cell_type": "code",
   "execution_count": 15,
   "metadata": {},
   "outputs": [
    {
     "name": "stdout",
     "output_type": "stream",
     "text": [
      "Best Parameters : {'max_depth': None, 'min_samples_split': 3, 'n_estimators': 100}\n",
      "Best Score : 0.7658416974706755\n"
     ]
    }
   ],
   "source": [
    "# Random forest classifier\n",
    "import pandas as pd \n",
    "import seaborn as sns\n",
    "df = sns.load_dataset('titanic')\n",
    "df['age'] = df['age'].fillna(df['age'].mean())\n",
    "x = df[['pclass','sex','age','sibsp','parch','fare']]\n",
    "y = df['survived']\n",
    "x = pd.get_dummies(x,columns=['sex'])\n",
    "\n",
    "from sklearn.ensemble import RandomForestClassifier\n",
    "from sklearn.model_selection import  GridSearchCV\n",
    "\n",
    "# create a model \n",
    "model = RandomForestClassifier()\n",
    "\n",
    "# define parameter grid\n",
    "\n",
    "param_grid = {  'n_estimators':[10,50,100],\n",
    "                'max_depth':[3,5,7,None],\n",
    "                'min_samples_split':[2,3,4]}\n",
    "\n",
    "# object grid search cv (creating the model)\n",
    "grid_search = GridSearchCV(model, param_grid, cv=5, scoring='f1')\n",
    "\n",
    "# train the model\n",
    "grid_search.fit(x,y)\n",
    "\n",
    "# print the best parameters\n",
    "print(\"Best Parameters :\" , grid_search.best_params_)\n",
    "print(\"Best Score :\" , grid_search.best_score_)"
   ]
  }
 ],
 "metadata": {
  "kernelspec": {
   "display_name": "base",
   "language": "python",
   "name": "python3"
  },
  "language_info": {
   "codemirror_mode": {
    "name": "ipython",
    "version": 3
   },
   "file_extension": ".py",
   "mimetype": "text/x-python",
   "name": "python",
   "nbconvert_exporter": "python",
   "pygments_lexer": "ipython3",
   "version": "3.11.5"
  }
 },
 "nbformat": 4,
 "nbformat_minor": 2
}
