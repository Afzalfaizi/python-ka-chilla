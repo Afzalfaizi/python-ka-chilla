{
 "cells": [
  {
   "cell_type": "markdown",
   "metadata": {},
   "source": [
    "# Best Model Selection"
   ]
  },
  {
   "cell_type": "markdown",
   "metadata": {},
   "source": [
    "## How to select Best Model?"
   ]
  },
  {
   "cell_type": "code",
   "execution_count": 5,
   "metadata": {},
   "outputs": [
    {
     "name": "stdout",
     "output_type": "stream",
     "text": [
      "Accuracy Score: Logistic Regression : 0.81\n",
      "Accuracy Score:Random Forest : 0.80\n",
      "Accuracy Score:NAVIE Bayes : 0.79\n",
      "Accuracy Score:Decision Tree : 0.76\n",
      "Accuracy Score:KNN : 0.69\n",
      "Accuracy Score:SVM : 0.66\n"
     ]
    }
   ],
   "source": [
    "# Import Libraries\n",
    "import pandas as pd\n",
    "import numpy as np\n",
    "import seaborn as sns\n",
    "import matplotlib.pyplot as plt\n",
    "\n",
    "df = sns.load_dataset('titanic')\n",
    "x = df[['pclass','sex','age','sibsp','parch','fare']]\n",
    "y = df['survived']\n",
    "x = pd.get_dummies(x,columns=['sex'])\n",
    "x.age.fillna(value = x['age'].mean(), inplace = True)\n",
    "\n",
    "from sklearn.tree import DecisionTreeClassifier\n",
    "from sklearn.neighbors import KNeighborsClassifier\n",
    "from sklearn.naive_bayes import GaussianNB\n",
    "from sklearn.linear_model import LogisticRegression\n",
    "from sklearn.ensemble import RandomForestClassifier\n",
    "from sklearn.svm import SVC\n",
    "from sklearn.model_selection import  train_test_split\n",
    "from sklearn.metrics import accuracy_score, f1_score, precision_score, recall_score\n",
    "\n",
    "x_train, x_test, y_train, y_test = train_test_split(x, y, test_size=0.2, random_state=42)\n",
    "\n",
    "models = [DecisionTreeClassifier(),KNeighborsClassifier(),GaussianNB(),LogisticRegression(),RandomForestClassifier(),SVC()]\n",
    "model_name = [\"Decision Tree\", \"KNN\", \"NAVIE Bayes\" , \" Logistic Regression\", \"Random Forest\", \"SVM\"]\n",
    "\n",
    "models_scores = []\n",
    "for model, model_name in zip(models, model_name):\n",
    "    model.fit(x_train, y_train)\n",
    "    y_pred = model.predict(x_test)\n",
    "    accuracy = accuracy_score(y_test, y_pred)\n",
    "    models_scores.append([model_name,accuracy])\n",
    "sorted_models = sorted(models_scores, key=lambda x:x[1], reverse=True)\n",
    "for model in sorted_models:\n",
    "    print(\"Accuracy Score:\" f'{model[0]} : {model[1]:.2f}')"
   ]
  },
  {
   "cell_type": "markdown",
   "metadata": {},
   "source": [
    "## Precision Score"
   ]
  },
  {
   "cell_type": "code",
   "execution_count": 8,
   "metadata": {},
   "outputs": [
    {
     "name": "stdout",
     "output_type": "stream",
     "text": [
      "Precision Score: Logistic Regression : 0.80\n",
      "Precision Score:Random Forest : 0.80\n",
      "Precision Score:SVM : 0.76\n",
      "Precision Score:NAVIE Bayes : 0.76\n",
      "Precision Score:Decision Tree : 0.72\n",
      "Precision Score:KNN : 0.66\n"
     ]
    }
   ],
   "source": [
    "models = [DecisionTreeClassifier(),KNeighborsClassifier(),GaussianNB(),LogisticRegression(),RandomForestClassifier(),SVC()]\n",
    "model_name = [\"Decision Tree\", \"KNN\", \"NAVIE Bayes\" , \" Logistic Regression\", \"Random Forest\", \"SVM\"]\n",
    "\n",
    "models_scores = []\n",
    "for model, model_name in zip(models, model_name):\n",
    "    model.fit(x_train, y_train)\n",
    "    y_pred = model.predict(x_test)\n",
    "    Precision = precision_score(y_test, y_pred)\n",
    "    models_scores.append([model_name,Precision])\n",
    "sorted_models = sorted(models_scores, key=lambda x:x[1], reverse=True)\n",
    "for model in sorted_models:\n",
    "    print(\"Precision Score:\" f'{model[0]} : {model[1]:.2f}')"
   ]
  },
  {
   "cell_type": "markdown",
   "metadata": {},
   "source": [
    "## Recall Score"
   ]
  },
  {
   "cell_type": "code",
   "execution_count": 9,
   "metadata": {},
   "outputs": [
    {
     "name": "stdout",
     "output_type": "stream",
     "text": [
      "Recall Score:Random Forest : 0.74\n",
      "Recall Score:NAVIE Bayes : 0.72\n",
      "Recall Score: Logistic Regression : 0.72\n",
      "Recall Score:Decision Tree : 0.69\n",
      "Recall Score:KNN : 0.54\n",
      "Recall Score:SVM : 0.26\n"
     ]
    }
   ],
   "source": [
    "models = [DecisionTreeClassifier(),KNeighborsClassifier(),GaussianNB(),LogisticRegression(),RandomForestClassifier(),SVC()]\n",
    "model_name = [\"Decision Tree\", \"KNN\", \"NAVIE Bayes\" , \" Logistic Regression\", \"Random Forest\", \"SVM\"]\n",
    "\n",
    "models_scores = []\n",
    "for model, model_name in zip(models, model_name):\n",
    "    model.fit(x_train, y_train)\n",
    "    y_pred = model.predict(x_test)\n",
    "    Recall = recall_score(y_test, y_pred)\n",
    "    models_scores.append([model_name,Recall])\n",
    "sorted_models = sorted(models_scores, key=lambda x:x[1], reverse=True)\n",
    "for model in sorted_models:\n",
    "    print(\"Recall Score:\" f'{model[0]} : {model[1]:.2f}')"
   ]
  }
 ],
 "metadata": {
  "kernelspec": {
   "display_name": "base",
   "language": "python",
   "name": "python3"
  },
  "language_info": {
   "codemirror_mode": {
    "name": "ipython",
    "version": 3
   },
   "file_extension": ".py",
   "mimetype": "text/x-python",
   "name": "python",
   "nbconvert_exporter": "python",
   "pygments_lexer": "ipython3",
   "version": "3.11.5"
  }
 },
 "nbformat": 4,
 "nbformat_minor": 2
}
