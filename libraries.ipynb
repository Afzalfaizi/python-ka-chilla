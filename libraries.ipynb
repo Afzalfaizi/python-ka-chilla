{
 "cells": [
  {
   "cell_type": "markdown",
   "metadata": {},
   "source": [
    "**# Libraries For Data Science**\n",
    "1. Pandas \n",
    "2. numpy\n",
    "3. matplotlib\n",
    "4. seaborn\n",
    "5. plotly\n",
    "6. scipy\n",
    "7. scikit-learn\n",
    "8. streamlit"
   ]
  },
  {
   "cell_type": "markdown",
   "metadata": {},
   "source": []
  }
 ],
 "metadata": {
  "language_info": {
   "name": "python"
  }
 },
 "nbformat": 4,
 "nbformat_minor": 2
}
